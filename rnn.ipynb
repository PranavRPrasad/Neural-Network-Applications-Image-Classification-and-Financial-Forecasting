{
 "cells": [
  {
   "cell_type": "code",
   "execution_count": 1,
   "id": "9d024034",
   "metadata": {},
   "outputs": [],
   "source": [
    "import numpy as np\n",
    "import pandas as pd\n",
    "from sklearn.preprocessing import StandardScaler\n",
    "from sklearn.model_selection import train_test_split\n",
    "import torch\n",
    "from torch.utils.data import Dataset, DataLoader\n",
    "import torch.nn as nn\n",
    "from sklearn.metrics import r2_score"
   ]
  },
  {
   "cell_type": "code",
   "execution_count": 2,
   "id": "342960d4",
   "metadata": {},
   "outputs": [],
   "source": [
    "rnn_df = pd.read_csv('coin_Bitcoin.csv')"
   ]
  },
  {
   "cell_type": "code",
   "execution_count": 3,
   "id": "9f713b8f",
   "metadata": {},
   "outputs": [],
   "source": [
    "x = rnn_df[['High', 'Low', 'Open']].values\n",
    "y = rnn_df['Close'].values"
   ]
  },
  {
   "cell_type": "code",
   "execution_count": 4,
   "id": "5b3906ea",
   "metadata": {},
   "outputs": [],
   "source": [
    "scaler_x = StandardScaler()\n",
    "scaler_y = StandardScaler()\n",
    "\n",
    "x = scaler_x.fit_transform(x)\n",
    "y = scaler_y.fit_transform(y.reshape(-1, 1))"
   ]
  },
  {
   "cell_type": "code",
   "execution_count": 5,
   "id": "7dee651e",
   "metadata": {},
   "outputs": [],
   "source": [
    "train_x, test_x, train_y, test_y = train_test_split(x, y, test_size = 0.2, random_state = 50)"
   ]
  },
  {
   "cell_type": "code",
   "execution_count": 6,
   "id": "e1ef0d3b",
   "metadata": {},
   "outputs": [],
   "source": [
    "train_x = torch.tensor(train_x, dtype = torch.float32)\n",
    "train_y = torch.tensor(train_y, dtype = torch.float32)\n",
    "test_x = torch.tensor(test_x, dtype = torch.float32)"
   ]
  },
  {
   "cell_type": "code",
   "execution_count": 7,
   "id": "13f4582f",
   "metadata": {},
   "outputs": [],
   "source": [
    "train_x = train_x.unsqueeze(1)\n",
    "seq_len = train_x[0].shape[0]"
   ]
  },
  {
   "cell_type": "code",
   "execution_count": 8,
   "id": "8b23d8bb",
   "metadata": {},
   "outputs": [],
   "source": [
    "class BitCoinDataSet(Dataset):\n",
    "    def __init__(self, train_x, train_y):\n",
    "        super(BitCoinDataSet, self).__init__()\n",
    "        self.data = train_x\n",
    "        self.labels = train_y\n",
    "\n",
    "    def __len__(self):\n",
    "        return len(self.data)\n",
    "\n",
    "    def __getitem__(self, idx):\n",
    "        return self.data[idx], self.labels[idx]"
   ]
  },
  {
   "cell_type": "code",
   "execution_count": 9,
   "id": "d72571b9",
   "metadata": {},
   "outputs": [],
   "source": [
    "hidden_size = 64\n",
    "num_layers = 2\n",
    "learning_rate = 0.001\n",
    "batch_size = 32\n",
    "epoch_size = 10"
   ]
  },
  {
   "cell_type": "code",
   "execution_count": 10,
   "id": "62c47ad5",
   "metadata": {},
   "outputs": [],
   "source": [
    "train_dataset = BitCoinDataSet(train_x, train_y)\n",
    "test_dataset = BitCoinDataSet(test_x, test_y)\n",
    "train_loader = DataLoader(train_dataset, batch_size = batch_size, shuffle = True)\n",
    "test_loader = DataLoader(test_dataset, batch_size = batch_size, shuffle = False)"
   ]
  },
  {
   "cell_type": "code",
   "execution_count": 11,
   "id": "faaa1fda",
   "metadata": {},
   "outputs": [],
   "source": [
    "class RNN(nn.Module):\n",
    "    def __init__(self, input_feature_size, hidden_size, num_layers):\n",
    "        super(RNN, self).__init__()\n",
    "        self.hidden_size = hidden_size\n",
    "        self.num_layers = num_layers\n",
    "        self.lstm = nn.LSTM(input_feature_size, hidden_size, num_layers, batch_first=True)\n",
    "        self.fc = nn.Sequential(\n",
    "            nn.Linear(hidden_size, 64),\n",
    "            nn.ReLU(),\n",
    "            nn.Linear(64, 1)\n",
    "        )\n",
    "    \n",
    "    def forward(self, x):\n",
    "        x = x.reshape(x.size(0), 1, -1)\n",
    "        h0 = torch.zeros(self.num_layers, x.size(0), self.hidden_size).to(x.device)\n",
    "        c0 = torch.zeros(self.num_layers, x.size(0), self.hidden_size).to(x.device)\n",
    "        output, _ = self.lstm(x, (h0, c0))\n",
    "        output = output[:, -1, :]\n",
    "        output = self.fc(output)\n",
    "        return output"
   ]
  },
  {
   "cell_type": "code",
   "execution_count": 12,
   "id": "c096561f",
   "metadata": {},
   "outputs": [],
   "source": [
    "device = torch.device(\"cuda\" if torch.cuda.is_available() else \"cpu\")\n",
    "rnn = RNN(input_feature_size = 3, hidden_size = hidden_size, num_layers = num_layers).to(device)\n",
    "criteria = nn.MSELoss()\n",
    "optimizer = torch.optim.Adam(rnn.parameters(), lr = learning_rate)"
   ]
  },
  {
   "cell_type": "code",
   "execution_count": 13,
   "id": "de800072",
   "metadata": {},
   "outputs": [
    {
     "name": "stdout",
     "output_type": "stream",
     "text": [
      "Finished Training\n"
     ]
    }
   ],
   "source": [
    "rnn.train()\n",
    "for epoch in range(epoch_size):\n",
    "\n",
    "    loss = 0.0\n",
    "\n",
    "    for batch_idx, data in enumerate(train_loader):\n",
    "        inputs, targets = data\n",
    "        inputs.to(device)\n",
    "        targets.to(device)\n",
    "\n",
    "        optimizer.zero_grad()\n",
    "\n",
    "        outputs = rnn(inputs)\n",
    "        loss = criteria(outputs, targets)\n",
    "        loss.backward()\n",
    "        optimizer.step()\n",
    "\n",
    "        loss += loss.item()\n",
    "        if batch_idx % 100 == 99:\n",
    "            print(f'[{epoch + 1}, {batch_idx + 1:5d}] loss: {loss / 100:.3f}')\n",
    "            loss = 0.0\n",
    "\n",
    "print('Finished Training')"
   ]
  },
  {
   "cell_type": "code",
   "execution_count": 14,
   "id": "3b4c0bf3",
   "metadata": {},
   "outputs": [],
   "source": [
    "prediction = []\n",
    "ground_truth = []\n",
    "rnn.eval()\n",
    "with torch.no_grad():\n",
    "    for data in test_loader:\n",
    "        inputs, targets = data\n",
    "        inputs = inputs.to(device)\n",
    "\n",
    "        ground_truth += targets.flatten().tolist()\n",
    "        out = rnn(inputs).detach().cpu().flatten().tolist()\n",
    "        prediction += out"
   ]
  },
  {
   "cell_type": "code",
   "execution_count": 15,
   "id": "b5b923d5",
   "metadata": {},
   "outputs": [],
   "source": [
    "prediction = scaler_y.inverse_transform(np.array(prediction).reshape(-1, 1))\n",
    "ground_truth = scaler_y.inverse_transform(np.array(ground_truth).reshape(-1, 1))"
   ]
  },
  {
   "cell_type": "code",
   "execution_count": 16,
   "id": "5efec986",
   "metadata": {},
   "outputs": [
    {
     "name": "stdout",
     "output_type": "stream",
     "text": [
      "0.998452298013993\n"
     ]
    }
   ],
   "source": [
    "r2score = r2_score(prediction,ground_truth)\n",
    "print(r2score)"
   ]
  },
  {
   "cell_type": "code",
   "execution_count": null,
   "id": "57a5aca8",
   "metadata": {},
   "outputs": [],
   "source": []
  }
 ],
 "metadata": {
  "kernelspec": {
   "display_name": "Python 3 (ipykernel)",
   "language": "python",
   "name": "python3"
  },
  "language_info": {
   "codemirror_mode": {
    "name": "ipython",
    "version": 3
   },
   "file_extension": ".py",
   "mimetype": "text/x-python",
   "name": "python",
   "nbconvert_exporter": "python",
   "pygments_lexer": "ipython3",
   "version": "3.11.4"
  }
 },
 "nbformat": 4,
 "nbformat_minor": 5
}
